{
 "cells": [
  {
   "cell_type": "markdown",
   "metadata": {},
   "source": [
    "#### Questions  \n",
    "https://data.nashville.gov/resource/fuaa-r5cm.json\n",
    "1. Make an API request that returns the months where \"fire\" was searched in 2016. Which month had the most searches?  \n",
    "\n",
    "\n",
    "2. Make an API request that returns all the times a query was run more than 100 times in a month. How many times did this occur?  \n",
    "\n",
    "\n",
    "3. Make another API request that returns all the times \"codes\" was searched more than 100 times in a month. How many times did this occur?  \n",
    "\n",
    "\n",
    "4. Make an API request that returns the entire Top 500 Monthly Searches dataset. Make a chart that shows the number of times \"maps\" was searched in a month across the entire time frame."
   ]
  },
  {
   "cell_type": "code",
   "execution_count": 1,
   "metadata": {},
   "outputs": [],
   "source": [
    "import requests\n",
    "import pandas as pd\n",
    "import matplotlib.pyplot as plt\n",
    "\n",
    "%matplotlib inline"
   ]
  },
  {
   "cell_type": "code",
   "execution_count": 2,
   "metadata": {},
   "outputs": [],
   "source": [
    "endpoint = 'https://data.nashville.gov/resource/fuaa-r5cm.json'"
   ]
  },
  {
   "cell_type": "code",
   "execution_count": 3,
   "metadata": {},
   "outputs": [],
   "source": [
    "response = requests.get(endpoint)"
   ]
  },
  {
   "cell_type": "code",
   "execution_count": 4,
   "metadata": {},
   "outputs": [
    {
     "data": {
      "text/plain": [
       "<Response [200]>"
      ]
     },
     "execution_count": 4,
     "metadata": {},
     "output_type": "execute_result"
    }
   ],
   "source": [
    "response"
   ]
  },
  {
   "cell_type": "code",
   "execution_count": 18,
   "metadata": {},
   "outputs": [],
   "source": [
    "res = response.json()"
   ]
  },
  {
   "cell_type": "code",
   "execution_count": 8,
   "metadata": {},
   "outputs": [],
   "source": [
    "response = requests.get(endpoint, params = params)"
   ]
  },
  {
   "cell_type": "code",
   "execution_count": 17,
   "metadata": {},
   "outputs": [],
   "source": [
    "params = {\n",
    "    'year':'2016',\n",
    "    'query_text': 'fire',\n",
    "    'query_count': 'query_count'\n",
    "\n",
    "}\n",
    "response = requests.get(endpoint, params = params)"
   ]
  },
  {
   "cell_type": "code",
   "execution_count": 19,
   "metadata": {},
   "outputs": [
    {
     "data": {
      "text/plain": [
       "<Response [200]>"
      ]
     },
     "execution_count": 19,
     "metadata": {},
     "output_type": "execute_result"
    }
   ],
   "source": [
    "response"
   ]
  },
  {
   "cell_type": "code",
   "execution_count": 21,
   "metadata": {},
   "outputs": [
    {
     "data": {
      "text/plain": [
       "[{'month_name': 'January',\n",
       "  'year': '2016',\n",
       "  'query_count': '19',\n",
       "  'query_text': 'fire'},\n",
       " {'month_name': 'February',\n",
       "  'year': '2016',\n",
       "  'query_count': '35',\n",
       "  'query_text': 'fire'},\n",
       " {'month_name': 'March',\n",
       "  'year': '2016',\n",
       "  'query_count': '32',\n",
       "  'query_text': 'fire'},\n",
       " {'month_name': 'April',\n",
       "  'year': '2016',\n",
       "  'query_count': '26',\n",
       "  'query_text': 'fire'},\n",
       " {'month_name': 'May',\n",
       "  'year': '2016',\n",
       "  'query_count': '24',\n",
       "  'query_text': 'fire'},\n",
       " {'month_name': 'June',\n",
       "  'year': '2016',\n",
       "  'query_count': '31',\n",
       "  'query_text': 'fire'},\n",
       " {'month_name': 'July',\n",
       "  'year': '2016',\n",
       "  'query_count': '24',\n",
       "  'query_text': 'fire'},\n",
       " {'month_name': 'August',\n",
       "  'year': '2016',\n",
       "  'query_count': '47',\n",
       "  'query_text': 'fire'},\n",
       " {'month_name': 'September',\n",
       "  'year': '2016',\n",
       "  'query_count': '36',\n",
       "  'query_text': 'fire'},\n",
       " {'month_name': 'October',\n",
       "  'year': '2016',\n",
       "  'query_count': '38',\n",
       "  'query_text': 'fire'},\n",
       " {'month_name': 'November',\n",
       "  'year': '2016',\n",
       "  'query_count': '32',\n",
       "  'query_text': 'fire'},\n",
       " {'month_name': 'December',\n",
       "  'year': '2016',\n",
       "  'query_count': '38',\n",
       "  'query_text': 'fire'}]"
      ]
     },
     "execution_count": 21,
     "metadata": {},
     "output_type": "execute_result"
    }
   ],
   "source": [
    "res"
   ]
  },
  {
   "cell_type": "code",
   "execution_count": 25,
   "metadata": {},
   "outputs": [
    {
     "data": {
      "text/html": [
       "<div>\n",
       "<style scoped>\n",
       "    .dataframe tbody tr th:only-of-type {\n",
       "        vertical-align: middle;\n",
       "    }\n",
       "\n",
       "    .dataframe tbody tr th {\n",
       "        vertical-align: top;\n",
       "    }\n",
       "\n",
       "    .dataframe thead th {\n",
       "        text-align: right;\n",
       "    }\n",
       "</style>\n",
       "<table border=\"1\" class=\"dataframe\">\n",
       "  <thead>\n",
       "    <tr style=\"text-align: right;\">\n",
       "      <th></th>\n",
       "      <th>month_name</th>\n",
       "      <th>year</th>\n",
       "      <th>query_count</th>\n",
       "      <th>query_text</th>\n",
       "    </tr>\n",
       "  </thead>\n",
       "  <tbody>\n",
       "    <tr>\n",
       "      <th>0</th>\n",
       "      <td>January</td>\n",
       "      <td>2016</td>\n",
       "      <td>19</td>\n",
       "      <td>fire</td>\n",
       "    </tr>\n",
       "    <tr>\n",
       "      <th>1</th>\n",
       "      <td>February</td>\n",
       "      <td>2016</td>\n",
       "      <td>35</td>\n",
       "      <td>fire</td>\n",
       "    </tr>\n",
       "    <tr>\n",
       "      <th>2</th>\n",
       "      <td>March</td>\n",
       "      <td>2016</td>\n",
       "      <td>32</td>\n",
       "      <td>fire</td>\n",
       "    </tr>\n",
       "    <tr>\n",
       "      <th>3</th>\n",
       "      <td>April</td>\n",
       "      <td>2016</td>\n",
       "      <td>26</td>\n",
       "      <td>fire</td>\n",
       "    </tr>\n",
       "    <tr>\n",
       "      <th>4</th>\n",
       "      <td>May</td>\n",
       "      <td>2016</td>\n",
       "      <td>24</td>\n",
       "      <td>fire</td>\n",
       "    </tr>\n",
       "    <tr>\n",
       "      <th>5</th>\n",
       "      <td>June</td>\n",
       "      <td>2016</td>\n",
       "      <td>31</td>\n",
       "      <td>fire</td>\n",
       "    </tr>\n",
       "    <tr>\n",
       "      <th>6</th>\n",
       "      <td>July</td>\n",
       "      <td>2016</td>\n",
       "      <td>24</td>\n",
       "      <td>fire</td>\n",
       "    </tr>\n",
       "    <tr>\n",
       "      <th>7</th>\n",
       "      <td>August</td>\n",
       "      <td>2016</td>\n",
       "      <td>47</td>\n",
       "      <td>fire</td>\n",
       "    </tr>\n",
       "    <tr>\n",
       "      <th>8</th>\n",
       "      <td>September</td>\n",
       "      <td>2016</td>\n",
       "      <td>36</td>\n",
       "      <td>fire</td>\n",
       "    </tr>\n",
       "    <tr>\n",
       "      <th>9</th>\n",
       "      <td>October</td>\n",
       "      <td>2016</td>\n",
       "      <td>38</td>\n",
       "      <td>fire</td>\n",
       "    </tr>\n",
       "    <tr>\n",
       "      <th>10</th>\n",
       "      <td>November</td>\n",
       "      <td>2016</td>\n",
       "      <td>32</td>\n",
       "      <td>fire</td>\n",
       "    </tr>\n",
       "    <tr>\n",
       "      <th>11</th>\n",
       "      <td>December</td>\n",
       "      <td>2016</td>\n",
       "      <td>38</td>\n",
       "      <td>fire</td>\n",
       "    </tr>\n",
       "  </tbody>\n",
       "</table>\n",
       "</div>"
      ],
      "text/plain": [
       "   month_name  year query_count query_text\n",
       "0     January  2016          19       fire\n",
       "1    February  2016          35       fire\n",
       "2       March  2016          32       fire\n",
       "3       April  2016          26       fire\n",
       "4         May  2016          24       fire\n",
       "5        June  2016          31       fire\n",
       "6        July  2016          24       fire\n",
       "7      August  2016          47       fire\n",
       "8   September  2016          36       fire\n",
       "9     October  2016          38       fire\n",
       "10   November  2016          32       fire\n",
       "11   December  2016          38       fire"
      ]
     },
     "execution_count": 25,
     "metadata": {},
     "output_type": "execute_result"
    }
   ],
   "source": [
    "#Q1\n",
    "\n",
    "df_fire = pd.DataFrame(res)\n",
    "df_fire.loc[df_fire['query_text'] == 'fire']\n",
    "\n"
   ]
  },
  {
   "cell_type": "markdown",
   "metadata": {},
   "source": [
    "Q1 Answer: AUGUST"
   ]
  },
  {
   "cell_type": "markdown",
   "metadata": {},
   "source": [
    "Q2 2. Make an API request that returns all the times a query was run more than 100 times in a month. How many times did this occur?\n",
    "\n",
    "ANSWER: 1793"
   ]
  },
  {
   "cell_type": "code",
   "execution_count": 15,
   "metadata": {},
   "outputs": [
    {
     "name": "stdout",
     "output_type": "stream",
     "text": [
      "1793\n"
     ]
    }
   ],
   "source": [
    "#Q2\n",
    "endpoint = 'https://data.nashville.gov/resource/fuaa-r5cm.json'\n",
    "\n",
    "response = requests.get(endpoint)\n",
    "\n",
    "data = response.json()\n",
    "\n",
    "# Create df\n",
    "q2 = pd.DataFrame(data)\n",
    "\n",
    "#convert query count to numeric \n",
    "q2['query_count'] = pd.to_numeric(q2['query_count'], errors='coerce')\n",
    "\n",
    "\n",
    "\n",
    "# filter for greater than 100 queries\n",
    "more100queries = q2[q2['query_count'] > 100]\n",
    "\n",
    "#\n",
    "count_more100queries = more100queries['query_count'].sum()\n",
    "\n",
    "print(count_more100queries)\n",
    "\n",
    "\n"
   ]
  },
  {
   "cell_type": "code",
   "execution_count": 28,
   "metadata": {},
   "outputs": [
    {
     "data": {
      "text/html": [
       "<div>\n",
       "<style scoped>\n",
       "    .dataframe tbody tr th:only-of-type {\n",
       "        vertical-align: middle;\n",
       "    }\n",
       "\n",
       "    .dataframe tbody tr th {\n",
       "        vertical-align: top;\n",
       "    }\n",
       "\n",
       "    .dataframe thead th {\n",
       "        text-align: right;\n",
       "    }\n",
       "</style>\n",
       "<table border=\"1\" class=\"dataframe\">\n",
       "  <thead>\n",
       "    <tr style=\"text-align: right;\">\n",
       "      <th></th>\n",
       "      <th>month_name</th>\n",
       "      <th>year</th>\n",
       "      <th>query_count</th>\n",
       "      <th>query_text</th>\n",
       "    </tr>\n",
       "  </thead>\n",
       "  <tbody>\n",
       "    <tr>\n",
       "      <th>0</th>\n",
       "      <td>January</td>\n",
       "      <td>2014</td>\n",
       "      <td>223</td>\n",
       "      <td>ebid</td>\n",
       "    </tr>\n",
       "    <tr>\n",
       "      <th>1</th>\n",
       "      <td>January</td>\n",
       "      <td>2014</td>\n",
       "      <td>112</td>\n",
       "      <td>property maps</td>\n",
       "    </tr>\n",
       "    <tr>\n",
       "      <th>501</th>\n",
       "      <td>February</td>\n",
       "      <td>2014</td>\n",
       "      <td>298</td>\n",
       "      <td>ebid</td>\n",
       "    </tr>\n",
       "    <tr>\n",
       "      <th>502</th>\n",
       "      <td>February</td>\n",
       "      <td>2014</td>\n",
       "      <td>185</td>\n",
       "      <td>property taxes</td>\n",
       "    </tr>\n",
       "    <tr>\n",
       "      <th>503</th>\n",
       "      <td>February</td>\n",
       "      <td>2014</td>\n",
       "      <td>140</td>\n",
       "      <td>maps</td>\n",
       "    </tr>\n",
       "    <tr>\n",
       "      <th>504</th>\n",
       "      <td>February</td>\n",
       "      <td>2014</td>\n",
       "      <td>140</td>\n",
       "      <td>property maps</td>\n",
       "    </tr>\n",
       "    <tr>\n",
       "      <th>505</th>\n",
       "      <td>February</td>\n",
       "      <td>2014</td>\n",
       "      <td>134</td>\n",
       "      <td>jobs</td>\n",
       "    </tr>\n",
       "    <tr>\n",
       "      <th>506</th>\n",
       "      <td>February</td>\n",
       "      <td>2014</td>\n",
       "      <td>124</td>\n",
       "      <td>property tax</td>\n",
       "    </tr>\n",
       "    <tr>\n",
       "      <th>507</th>\n",
       "      <td>February</td>\n",
       "      <td>2014</td>\n",
       "      <td>114</td>\n",
       "      <td>employment</td>\n",
       "    </tr>\n",
       "    <tr>\n",
       "      <th>508</th>\n",
       "      <td>February</td>\n",
       "      <td>2014</td>\n",
       "      <td>112</td>\n",
       "      <td>media releases</td>\n",
       "    </tr>\n",
       "    <tr>\n",
       "      <th>509</th>\n",
       "      <td>February</td>\n",
       "      <td>2014</td>\n",
       "      <td>106</td>\n",
       "      <td>criminal court clerk</td>\n",
       "    </tr>\n",
       "    <tr>\n",
       "      <th>510</th>\n",
       "      <td>February</td>\n",
       "      <td>2014</td>\n",
       "      <td>105</td>\n",
       "      <td>police</td>\n",
       "    </tr>\n",
       "  </tbody>\n",
       "</table>\n",
       "</div>"
      ],
      "text/plain": [
       "    month_name  year  query_count            query_text\n",
       "0      January  2014          223                  ebid\n",
       "1      January  2014          112         property maps\n",
       "501   February  2014          298                  ebid\n",
       "502   February  2014          185        property taxes\n",
       "503   February  2014          140                  maps\n",
       "504   February  2014          140         property maps\n",
       "505   February  2014          134                  jobs\n",
       "506   February  2014          124          property tax\n",
       "507   February  2014          114            employment\n",
       "508   February  2014          112        media releases\n",
       "509   February  2014          106  criminal court clerk\n",
       "510   February  2014          105                police"
      ]
     },
     "execution_count": 28,
     "metadata": {},
     "output_type": "execute_result"
    }
   ],
   "source": [
    "more100queries"
   ]
  },
  {
   "cell_type": "markdown",
   "metadata": {},
   "source": [
    "Q3\n",
    "3. Make another API request that returns all the times \"codes\" was searched more than 100 times in a month. How many times did this occur?  "
   ]
  },
  {
   "cell_type": "code",
   "execution_count": 30,
   "metadata": {},
   "outputs": [
    {
     "name": "stdout",
     "output_type": "stream",
     "text": [
      "0\n"
     ]
    }
   ],
   "source": [
    "\n",
    "\n",
    "endpointQ3 = 'https://data.nashville.gov/resource/fuaa-r5cm.json'\n",
    "\n",
    "\n",
    "responseQ3 = requests.get(endpoint)\n",
    "\n",
    "dataQ3 = response.json()\n",
    "\n",
    "# df \n",
    "dfQ3 = pd.DataFrame(data)\n",
    "\n",
    "# make sure query count is numeric so it doesn't get angry\n",
    "dfQ3['query_count'] = pd.to_numeric(dfQ3['query_count'], errors='coerce')\n",
    "\n",
    "# why isn't this working now???\n",
    "df_codes_query = dfQ3[(dfQ3['query_text'] == 'codes') & (dfQ3['query_count'] > 100)]\n",
    "\n",
    "# Count the number of such occurrences\n",
    "count_codes_query = df_codes_query.shape[0]\n",
    "\n",
    "\n",
    "\n",
    "print(count_codes_query)\n",
    "\n",
    "# getting zero as a response but I don't trust it. "
   ]
  }
 ],
 "metadata": {
  "kernelspec": {
   "display_name": "Python 3 (ipykernel)",
   "language": "python",
   "name": "python3"
  },
  "language_info": {
   "codemirror_mode": {
    "name": "ipython",
    "version": 3
   },
   "file_extension": ".py",
   "mimetype": "text/x-python",
   "name": "python",
   "nbconvert_exporter": "python",
   "pygments_lexer": "ipython3",
   "version": "3.11.5"
  }
 },
 "nbformat": 4,
 "nbformat_minor": 2
}
